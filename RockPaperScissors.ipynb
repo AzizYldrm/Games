{
  "nbformat": 4,
  "nbformat_minor": 0,
  "metadata": {
    "colab": {
      "provenance": []
    },
    "kernelspec": {
      "name": "python3",
      "display_name": "Python 3"
    },
    "language_info": {
      "name": "python"
    }
  },
  "cells": [
    {
      "cell_type": "markdown",
      "source": [
        "##Warm up\n",
        "\n",
        "Each player can choose between the three actions \"rock\", \"paper\" and \"scissors\". First, you need to create a list that contains all possible actions."
      ],
      "metadata": {
        "id": "ymULFKyosM3d"
      }
    },
    {
      "cell_type": "code",
      "source": [
        "#Please create a list containing the three actions of the game.\n",
        "game = {'Rock','Paper','Scissors'}\n",
        "print(game)"
      ],
      "metadata": {
        "id": "0w6HGZBvsvru",
        "colab": {
          "base_uri": "https://localhost:8080/"
        },
        "outputId": "e3af7382-43ac-4d4b-acda-fd35ed592b08"
      },
      "execution_count": 6,
      "outputs": [
        {
          "output_type": "stream",
          "name": "stdout",
          "text": [
            "{'Rock', 'Scissors', 'Paper'}\n"
          ]
        }
      ]
    },
    {
      "cell_type": "markdown",
      "source": [
        "# Choose an action\n",
        "\n",
        "Now you have the list with the actions ready. The next step is to let Python randomly choose an action from this list. Each player has to make a choice, so Python has to make a choice for player 1 and another one for player 2.\n",
        "\n",
        "📌The built-in module \"random\" can help you with this. As you might remember from previous lessons you can use the .randint() method to generate random numbers.\n",
        "\n",
        "📌📌There is another method in the random module called .choice(). It takes a list as input and selects an item randomly from that list.\n",
        "\n"
      ],
      "metadata": {
        "id": "cnWVzlo1vBy8"
      }
    },
    {
      "cell_type": "code",
      "source": [
        "#Import the random library\n",
        "import random\n",
        "game = [\"rock\",\"paper\",\"scissors\"]\n",
        "#Select a random action for each player\n",
        "player1 = random.choice(game)\n",
        "player2 = random.choice(game)\n",
        "\n",
        "#Use the print function to print the players choices\n",
        "print(\"player1 :\",player1)\n",
        "print(\"player2 :\",player2)"
      ],
      "metadata": {
        "id": "bdlEyJC2xPOw",
        "colab": {
          "base_uri": "https://localhost:8080/"
        },
        "outputId": "e8b791e2-d749-46b6-9074-efd87577c654"
      },
      "execution_count": 47,
      "outputs": [
        {
          "output_type": "stream",
          "name": "stdout",
          "text": [
            "player1 : paper\n",
            "player2 : paper\n"
          ]
        }
      ]
    },
    {
      "cell_type": "markdown",
      "source": [
        "# Determine the winner\n",
        "\n",
        "So, who won? To determine the winner, you first have to specify all possible outcomes of the game. Then you can use conditional statements to specify which outcome will lead to a win for player 1 or player 2, or a tie.\n",
        "\n",
        "First, let's start with the outcome that both users chose the same action: a tie!\n",
        "In case of a tie, the game should print the message \"Tie! Both players chose the same action.\" to the screen.\n",
        "\n",
        "📌Use conditional statements to check whether the players actions are equal to each other and *if* this condition is true the message should be printed."
      ],
      "metadata": {
        "id": "Yr7uQq1J2k6p"
      }
    },
    {
      "cell_type": "code",
      "source": [
        "#1 - Tie Condition\n",
        "#Please write an if statement to check if the players chose the same action\n",
        "if  player1==player2:\n",
        "    print(\"Tie!\")\n"
      ],
      "metadata": {
        "id": "8S1F2r8NtEoN"
      },
      "execution_count": 35,
      "outputs": []
    },
    {
      "cell_type": "markdown",
      "source": [
        "Now, let's focus on the remaining outcomes. We have three different actions: rock, paper and scissors.\n",
        "\n",
        "This is a list of all the possible combinations (without those that result in a tie):\n",
        "\n",
        "1.   (paper, rock)\n",
        "2.   (paper, scissors)\n",
        "3.   (scissors, rock)\n",
        "4.   (scissors, paper)\n",
        "5.   (rock, paper)\n",
        "6.   (rock, scissors)\n",
        "\n",
        "You need to check all these conditions in order to determine the winner.\n",
        "\n",
        "📌You can use the \"and\" operator to combine two actions in one conditional statement.\n",
        "\n",
        "📌📌Another approach is using nested if statements to check whether the action of player 2 beats the action of player 1.\n",
        "\n",
        "🧨💣In the cell, first copy the code you wrote for \"Tie\" conditions. Then continue to add the other outcomes using \"elif\".\n",
        "\n",
        "\n"
      ],
      "metadata": {
        "id": "6aKSif7rItma"
      }
    },
    {
      "cell_type": "code",
      "source": [
        "\n",
        "#1-Winning Conditions\n",
        "win_Condition={\n",
        "    \"rock\":\"scissors\",\n",
        "    \"scissors\":\"paper\",\n",
        "    \"paper\":\"rock\"\n",
        "}\n",
        "\n",
        "\n",
        "#Please add the conditional statements for the remaining combinations\n",
        "#2 - Tie Condition\n",
        "if  player1==player2:\n",
        "    print(\"Tie!\")\n",
        "\n",
        "elif win_Condition[player1] == player2:\n",
        "   print(\"Player1 is Winner!\")\n",
        "\n",
        "else :\n",
        "  print(\"Player2 is Winner!\")\n",
        ""
      ],
      "metadata": {
        "id": "Ix9sskr5z6Td",
        "colab": {
          "base_uri": "https://localhost:8080/"
        },
        "outputId": "bf7bc4a1-e13a-498d-fb76-ecc8c40a2a1b"
      },
      "execution_count": 48,
      "outputs": [
        {
          "output_type": "stream",
          "name": "stdout",
          "text": [
            "Tie!\n"
          ]
        }
      ]
    },
    {
      "cell_type": "markdown",
      "source": [
        "# Best of 3 or 5 or single round ? :)\n",
        "\n",
        "Now that you have your game set, let's also ask the users how many rounds they want to play.\n",
        "\n",
        "📌 You can use the input function for this.\n",
        "\n",
        "And because there are multiple rounds, you need to keep track of the score. For this, you need to create a variable for each player that is 0 in the beginning.\n"
      ],
      "metadata": {
        "id": "7Ixf-AHqIhcV"
      }
    },
    {
      "cell_type": "code",
      "source": [
        "#Please ask the user how many rounds they want to play\n",
        "rounds=input(\"How many rounds you want to play: \")\n",
        "\n",
        "#Scores of players\n",
        "player1Score=0\n",
        "player2Score=0\n"
      ],
      "metadata": {
        "id": "_kbrpXXkBU_d",
        "colab": {
          "base_uri": "https://localhost:8080/"
        },
        "outputId": "95c9e11d-4ed3-4417-8d31-cd83cee8f59d"
      },
      "execution_count": 50,
      "outputs": [
        {
          "name": "stdout",
          "output_type": "stream",
          "text": [
            "How many rounds you want to play: 12\n"
          ]
        }
      ]
    },
    {
      "cell_type": "markdown",
      "source": [
        "For Loop!"
      ],
      "metadata": {
        "id": "nzIGT6s_CWvP"
      }
    },
    {
      "cell_type": "code",
      "source": [
        "#Collect all the components of your program to run it in a for loop\n",
        "#Import the random library\n",
        "import random\n",
        "\n",
        "#Add the code to create a list containing the three actions of the game.\n",
        "game = ['rock','paper','scissors']\n",
        "\n",
        "#Add the code to set the scores of players to 0\n",
        "player1Score=0\n",
        "player2Score=0\n",
        "\n",
        "#Add the code to ask the user how many rounds they want to play\n",
        "rounds=int(input(\"How many rounds you want to play: \"))\n",
        "\n",
        "#Write a for loop and put the game inside\n",
        "for i in range(rounds):\n",
        "    print(\"\\nRound\", i + 1)\n",
        "  #Add the code to select a random action for each player\n",
        "    player1 = random.choice(game)\n",
        "    player2 = random.choice(game)\n",
        "  #Add the code to print the players choices\n",
        "    print(\"player1 :\",player1)\n",
        "    print(\"player2 :\",player2)\n",
        "\n",
        "    win_Condition={\n",
        "    \"rock\":\"scissors\",\n",
        "    \"scissors\":\"paper\",\n",
        "    \"paper\":\"rock\"\n",
        "}\n",
        "  #Add the tie condition\n",
        "    if  player1==player2:\n",
        "       print(\"Tie!\")\n",
        "\n",
        "  #Add the remaining condition\n",
        "\n",
        "    elif win_Condition[player1] == player2:\n",
        "       print(\"Player1 is Winner!\")\n",
        "       player1Score += 1\n",
        "    else :\n",
        "       print(\"Player2 is Winner!\")\n",
        "       player2Score += 1\n",
        "\n",
        "  #print the score\n",
        "print(\"Final Score - Player 1:\", player1Score, \", Player 2:\", player2Score)\n",
        "\n"
      ],
      "metadata": {
        "id": "Wy7CLLRNCV3X",
        "colab": {
          "base_uri": "https://localhost:8080/"
        },
        "outputId": "1a91afef-0de6-41a0-ca57-5a1c95ab8aa9"
      },
      "execution_count": 63,
      "outputs": [
        {
          "output_type": "stream",
          "name": "stdout",
          "text": [
            "How many rounds you want to play: 5\n",
            "\n",
            "Round 1\n",
            "player1 : rock\n",
            "player2 : paper\n",
            "Player2 is Winner!\n",
            "\n",
            "Round 2\n",
            "player1 : paper\n",
            "player2 : paper\n",
            "Tie!\n",
            "\n",
            "Round 3\n",
            "player1 : paper\n",
            "player2 : rock\n",
            "Player1 is Winner!\n",
            "\n",
            "Round 4\n",
            "player1 : paper\n",
            "player2 : scissors\n",
            "Player2 is Winner!\n",
            "\n",
            "Round 5\n",
            "player1 : rock\n",
            "player2 : rock\n",
            "Tie!\n",
            "Final Score - Player 1: 1 , Player 2: 2\n"
          ]
        }
      ]
    },
    {
      "cell_type": "markdown",
      "source": [
        "With While Loop!"
      ],
      "metadata": {
        "id": "OF9nttEWAo3i"
      }
    },
    {
      "cell_type": "code",
      "source": [
        "import random\n",
        "\n",
        "# List of actions\n",
        "game = ['rock', 'paper', 'scissors']\n",
        "\n",
        "# Initialize scores\n",
        "player1Score = 0\n",
        "player2Score = 0\n",
        "\n",
        "# Ask the user how many rounds they want to play\n",
        "rounds = int(input(\"How many rounds do you want to play? \"))\n",
        "\n",
        "# While loop for the game\n",
        "while rounds > 0:\n",
        "    print(\"\\nRound\",)\n",
        "\n",
        "    # Random actions for players\n",
        "    player1 = random.choice(game)\n",
        "    player2 = random.choice(game)\n",
        "\n",
        "    # Print the players' choices\n",
        "    print(\"Player 1:\", player1)\n",
        "    print(\"Player 2:\", player2)\n",
        "\n",
        "    # Win conditions\n",
        "    win_Condition = {\n",
        "        \"rock\": \"scissors\",\n",
        "        \"scissors\": \"paper\",\n",
        "        \"paper\": \"rock\"\n",
        "    }\n",
        "\n",
        "    # Tie condition\n",
        "    if player1 == player2:\n",
        "        print(\"Tie!\")\n",
        "\n",
        "    # Remaining conditions\n",
        "    elif win_Condition[player1] == player2:\n",
        "        print(\"Player 1 is Winner!\")\n",
        "        player1Score += 1\n",
        "    else:\n",
        "        print(\"Player 2 is Winner!\")\n",
        "        player2Score += 1\n",
        "\n",
        "    # Decrease rounds after each iteration\n",
        "    rounds -= 1\n",
        "\n",
        "# Print final score\n",
        "print(\"\\nGame Over!\")\n",
        "print(\"Final Score - Player 1:\", player1Score, \", Player 2:\", player2Score)\n"
      ],
      "metadata": {
        "id": "dvTr4HR4wF4n",
        "colab": {
          "base_uri": "https://localhost:8080/"
        },
        "outputId": "f82e9db4-a714-4a97-b58a-05552898b1a5"
      },
      "execution_count": 72,
      "outputs": [
        {
          "output_type": "stream",
          "name": "stdout",
          "text": [
            "How many rounds do you want to play? 3\n",
            "\n",
            "Round\n",
            "Player 1: paper\n",
            "Player 2: rock\n",
            "Player 1 is Winner!\n",
            "\n",
            "Round\n",
            "Player 1: rock\n",
            "Player 2: rock\n",
            "Tie!\n",
            "\n",
            "Round\n",
            "Player 1: scissors\n",
            "Player 2: rock\n",
            "Player 2 is Winner!\n",
            "\n",
            "Game Over!\n",
            "Final Score - Player 1: 1 , Player 2: 1\n"
          ]
        }
      ]
    }
  ]
}